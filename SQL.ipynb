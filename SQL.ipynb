{
 "cells": [
  {
   "cell_type": "code",
   "execution_count": 34,
   "id": "6afc7246",
   "metadata": {},
   "outputs": [],
   "source": [
    "#При необходимости установите библиотеку\n",
    "#pip install pandasql"
   ]
  },
  {
   "cell_type": "code",
   "execution_count": 35,
   "id": "87f25105",
   "metadata": {},
   "outputs": [],
   "source": [
    "#импортируем библиотеки\n",
    "import pandas as pd\n",
    "from pandasql import sqldf\n",
    "import warnings\n",
    "import numpy as np\n",
    "import seaborn as sns"
   ]
  },
  {
   "cell_type": "markdown",
   "id": "a572bc4a",
   "metadata": {},
   "source": [
    "# Обработка данных"
   ]
  },
  {
   "cell_type": "code",
   "execution_count": 36,
   "id": "8109aa7d",
   "metadata": {},
   "outputs": [],
   "source": [
    "#выгружаем .xlsx файлы в pandas фреймы\n",
    "with warnings.catch_warnings(record=True):\n",
    "    warnings.simplefilter(\"always\")\n",
    "    customers = pd.read_excel(\"customer_info.xlsx\")\n",
    "    transactions = pd.read_excel(\"transactions_info.xlsx\")"
   ]
  },
  {
   "cell_type": "code",
   "execution_count": 37,
   "id": "cdca7f88",
   "metadata": {},
   "outputs": [
    {
     "name": "stdout",
     "output_type": "stream",
     "text": [
      "<class 'pandas.core.frame.DataFrame'>\n",
      "RangeIndex: 2429 entries, 0 to 2428\n",
      "Data columns (total 8 columns):\n",
      " #   Column                 Non-Null Count  Dtype  \n",
      "---  ------                 --------------  -----  \n",
      " 0   Id_client              2429 non-null   int64  \n",
      " 1   Total_amount           2429 non-null   float64\n",
      " 2   Gender                 2365 non-null   object \n",
      " 3   Age                    2394 non-null   float64\n",
      " 4   Count_city             2429 non-null   int64  \n",
      " 5   Response_communcation  2429 non-null   int64  \n",
      " 6   Communication_3month   2429 non-null   int64  \n",
      " 7   Tenure                 2429 non-null   int64  \n",
      "dtypes: float64(2), int64(5), object(1)\n",
      "memory usage: 151.9+ KB\n"
     ]
    }
   ],
   "source": [
    "#Информация о атрибутах таблицы customers\n",
    "customers.info()"
   ]
  },
  {
   "cell_type": "code",
   "execution_count": 38,
   "id": "2e95dd4e",
   "metadata": {},
   "outputs": [
    {
     "name": "stdout",
     "output_type": "stream",
     "text": [
      "<class 'pandas.core.frame.DataFrame'>\n",
      "RangeIndex: 419122 entries, 0 to 419121\n",
      "Data columns (total 5 columns):\n",
      " #   Column          Non-Null Count   Dtype         \n",
      "---  ------          --------------   -----         \n",
      " 0   date_new        419122 non-null  datetime64[ns]\n",
      " 1   Id_check        419122 non-null  int64         \n",
      " 2   Count_products  419122 non-null  float64       \n",
      " 3   Sum_payment     419122 non-null  float64       \n",
      " 4   ID_client       419122 non-null  int64         \n",
      "dtypes: datetime64[ns](1), float64(2), int64(2)\n",
      "memory usage: 16.0 MB\n"
     ]
    }
   ],
   "source": [
    "#Информация о атрибутах таблицы transactions\n",
    "transactions.info()"
   ]
  },
  {
   "cell_type": "code",
   "execution_count": 39,
   "id": "67033c04",
   "metadata": {},
   "outputs": [
    {
     "data": {
      "text/html": [
       "<div>\n",
       "<style scoped>\n",
       "    .dataframe tbody tr th:only-of-type {\n",
       "        vertical-align: middle;\n",
       "    }\n",
       "\n",
       "    .dataframe tbody tr th {\n",
       "        vertical-align: top;\n",
       "    }\n",
       "\n",
       "    .dataframe thead th {\n",
       "        text-align: right;\n",
       "    }\n",
       "</style>\n",
       "<table border=\"1\" class=\"dataframe\">\n",
       "  <thead>\n",
       "    <tr style=\"text-align: right;\">\n",
       "      <th></th>\n",
       "      <th>date_new</th>\n",
       "      <th>Id_check</th>\n",
       "      <th>Count_products</th>\n",
       "      <th>Sum_payment</th>\n",
       "      <th>ID_client</th>\n",
       "    </tr>\n",
       "  </thead>\n",
       "  <tbody>\n",
       "    <tr>\n",
       "      <th>0</th>\n",
       "      <td>2016-03-01</td>\n",
       "      <td>2271145</td>\n",
       "      <td>2.034</td>\n",
       "      <td>23.31</td>\n",
       "      <td>104027</td>\n",
       "    </tr>\n",
       "    <tr>\n",
       "      <th>1</th>\n",
       "      <td>2016-03-01</td>\n",
       "      <td>2271145</td>\n",
       "      <td>1.000</td>\n",
       "      <td>31.75</td>\n",
       "      <td>104027</td>\n",
       "    </tr>\n",
       "    <tr>\n",
       "      <th>2</th>\n",
       "      <td>2016-03-01</td>\n",
       "      <td>2271145</td>\n",
       "      <td>1.000</td>\n",
       "      <td>6.80</td>\n",
       "      <td>104027</td>\n",
       "    </tr>\n",
       "    <tr>\n",
       "      <th>3</th>\n",
       "      <td>2016-03-01</td>\n",
       "      <td>2271145</td>\n",
       "      <td>1.000</td>\n",
       "      <td>6.24</td>\n",
       "      <td>104027</td>\n",
       "    </tr>\n",
       "    <tr>\n",
       "      <th>4</th>\n",
       "      <td>2016-03-01</td>\n",
       "      <td>2271145</td>\n",
       "      <td>1.000</td>\n",
       "      <td>36.98</td>\n",
       "      <td>104027</td>\n",
       "    </tr>\n",
       "    <tr>\n",
       "      <th>5</th>\n",
       "      <td>2016-03-01</td>\n",
       "      <td>2271145</td>\n",
       "      <td>1.000</td>\n",
       "      <td>10.93</td>\n",
       "      <td>104027</td>\n",
       "    </tr>\n",
       "    <tr>\n",
       "      <th>6</th>\n",
       "      <td>2016-03-01</td>\n",
       "      <td>2271145</td>\n",
       "      <td>1.000</td>\n",
       "      <td>60.96</td>\n",
       "      <td>104027</td>\n",
       "    </tr>\n",
       "    <tr>\n",
       "      <th>7</th>\n",
       "      <td>2016-03-01</td>\n",
       "      <td>2271145</td>\n",
       "      <td>1.000</td>\n",
       "      <td>72.17</td>\n",
       "      <td>104027</td>\n",
       "    </tr>\n",
       "    <tr>\n",
       "      <th>8</th>\n",
       "      <td>2016-03-01</td>\n",
       "      <td>2271145</td>\n",
       "      <td>1.000</td>\n",
       "      <td>60.96</td>\n",
       "      <td>104027</td>\n",
       "    </tr>\n",
       "    <tr>\n",
       "      <th>9</th>\n",
       "      <td>2015-07-01</td>\n",
       "      <td>1771932</td>\n",
       "      <td>1.000</td>\n",
       "      <td>2.15</td>\n",
       "      <td>112005</td>\n",
       "    </tr>\n",
       "  </tbody>\n",
       "</table>\n",
       "</div>"
      ],
      "text/plain": [
       "    date_new  Id_check  Count_products  Sum_payment  ID_client\n",
       "0 2016-03-01   2271145           2.034        23.31     104027\n",
       "1 2016-03-01   2271145           1.000        31.75     104027\n",
       "2 2016-03-01   2271145           1.000         6.80     104027\n",
       "3 2016-03-01   2271145           1.000         6.24     104027\n",
       "4 2016-03-01   2271145           1.000        36.98     104027\n",
       "5 2016-03-01   2271145           1.000        10.93     104027\n",
       "6 2016-03-01   2271145           1.000        60.96     104027\n",
       "7 2016-03-01   2271145           1.000        72.17     104027\n",
       "8 2016-03-01   2271145           1.000        60.96     104027\n",
       "9 2015-07-01   1771932           1.000         2.15     112005"
      ]
     },
     "execution_count": 39,
     "metadata": {},
     "output_type": "execute_result"
    }
   ],
   "source": [
    "#визуальный осмотр данных таблицы transactions\n",
    "transactions.head(10)"
   ]
  },
  {
   "cell_type": "code",
   "execution_count": 40,
   "id": "aa62e229",
   "metadata": {},
   "outputs": [],
   "source": [
    "#присвоен индекс фрейма в качестве уникального id таблицы transactions\n",
    "transactions = transactions.reset_index().rename(columns = {\"index\":\"tr_id\"})"
   ]
  },
  {
   "cell_type": "code",
   "execution_count": 41,
   "id": "52b7b178",
   "metadata": {},
   "outputs": [],
   "source": [
    "#приведен к единому наименованию связующий таблицы столбец ID_client\n",
    "customers.rename(columns = {\"Id_client\":\"ID_client\"}, inplace = True)"
   ]
  },
  {
   "cell_type": "markdown",
   "id": "8dc0da00",
   "metadata": {},
   "source": [
    "# Первое задание"
   ]
  },
  {
   "cell_type": "code",
   "execution_count": 42,
   "id": "b354559f",
   "metadata": {},
   "outputs": [
    {
     "data": {
      "text/html": [
       "<div>\n",
       "<style scoped>\n",
       "    .dataframe tbody tr th:only-of-type {\n",
       "        vertical-align: middle;\n",
       "    }\n",
       "\n",
       "    .dataframe tbody tr th {\n",
       "        vertical-align: top;\n",
       "    }\n",
       "\n",
       "    .dataframe thead th {\n",
       "        text-align: right;\n",
       "    }\n",
       "</style>\n",
       "<table border=\"1\" class=\"dataframe\">\n",
       "  <thead>\n",
       "    <tr style=\"text-align: right;\">\n",
       "      <th></th>\n",
       "      <th>Amount_of_dates</th>\n",
       "    </tr>\n",
       "  </thead>\n",
       "  <tbody>\n",
       "    <tr>\n",
       "      <th>0</th>\n",
       "      <td>13</td>\n",
       "    </tr>\n",
       "  </tbody>\n",
       "</table>\n",
       "</div>"
      ],
      "text/plain": [
       "   Amount_of_dates\n",
       "0               13"
      ]
     },
     "execution_count": 42,
     "metadata": {},
     "output_type": "execute_result"
    }
   ],
   "source": [
    "#количество уникальных периодов отмеченных в таблице transactions\n",
    "unique_dates = sqldf(\"SELECT count(*) as Amount_of_dates FROM( SELECT date_new FROM transactions GROUP BY date_new)\")\n",
    "unique_dates"
   ]
  },
  {
   "cell_type": "markdown",
   "id": "d7f9fc2f",
   "metadata": {},
   "source": [
    "### Результат"
   ]
  },
  {
   "cell_type": "code",
   "execution_count": 43,
   "id": "60760406",
   "metadata": {},
   "outputs": [
    {
     "data": {
      "text/html": [
       "<div>\n",
       "<style scoped>\n",
       "    .dataframe tbody tr th:only-of-type {\n",
       "        vertical-align: middle;\n",
       "    }\n",
       "\n",
       "    .dataframe tbody tr th {\n",
       "        vertical-align: top;\n",
       "    }\n",
       "\n",
       "    .dataframe thead th {\n",
       "        text-align: right;\n",
       "    }\n",
       "</style>\n",
       "<table border=\"1\" class=\"dataframe\">\n",
       "  <thead>\n",
       "    <tr style=\"text-align: right;\">\n",
       "      <th></th>\n",
       "      <th>ID_client</th>\n",
       "      <th>average_check</th>\n",
       "      <th>average_monthly</th>\n",
       "      <th>total_operations</th>\n",
       "    </tr>\n",
       "  </thead>\n",
       "  <tbody>\n",
       "    <tr>\n",
       "      <th>0</th>\n",
       "      <td>16052</td>\n",
       "      <td>81.3</td>\n",
       "      <td>44898.3</td>\n",
       "      <td>65222</td>\n",
       "    </tr>\n",
       "    <tr>\n",
       "      <th>1</th>\n",
       "      <td>185364</td>\n",
       "      <td>179.3</td>\n",
       "      <td>1792.6</td>\n",
       "      <td>1489</td>\n",
       "    </tr>\n",
       "    <tr>\n",
       "      <th>2</th>\n",
       "      <td>193285</td>\n",
       "      <td>125.0</td>\n",
       "      <td>1577.4</td>\n",
       "      <td>2187</td>\n",
       "    </tr>\n",
       "    <tr>\n",
       "      <th>3</th>\n",
       "      <td>199886</td>\n",
       "      <td>110.0</td>\n",
       "      <td>1167.4</td>\n",
       "      <td>1536</td>\n",
       "    </tr>\n",
       "    <tr>\n",
       "      <th>4</th>\n",
       "      <td>194930</td>\n",
       "      <td>87.6</td>\n",
       "      <td>1091.4</td>\n",
       "      <td>1797</td>\n",
       "    </tr>\n",
       "    <tr>\n",
       "      <th>...</th>\n",
       "      <td>...</td>\n",
       "      <td>...</td>\n",
       "      <td>...</td>\n",
       "      <td>...</td>\n",
       "    </tr>\n",
       "    <tr>\n",
       "      <th>75</th>\n",
       "      <td>233877</td>\n",
       "      <td>79.8</td>\n",
       "      <td>202.7</td>\n",
       "      <td>300</td>\n",
       "    </tr>\n",
       "    <tr>\n",
       "      <th>76</th>\n",
       "      <td>228686</td>\n",
       "      <td>104.1</td>\n",
       "      <td>200.3</td>\n",
       "      <td>268</td>\n",
       "    </tr>\n",
       "    <tr>\n",
       "      <th>77</th>\n",
       "      <td>193868</td>\n",
       "      <td>78.2</td>\n",
       "      <td>180.5</td>\n",
       "      <td>309</td>\n",
       "    </tr>\n",
       "    <tr>\n",
       "      <th>78</th>\n",
       "      <td>185435</td>\n",
       "      <td>73.3</td>\n",
       "      <td>180.4</td>\n",
       "      <td>278</td>\n",
       "    </tr>\n",
       "    <tr>\n",
       "      <th>79</th>\n",
       "      <td>185122</td>\n",
       "      <td>69.8</td>\n",
       "      <td>177.1</td>\n",
       "      <td>319</td>\n",
       "    </tr>\n",
       "  </tbody>\n",
       "</table>\n",
       "<p>80 rows × 4 columns</p>\n",
       "</div>"
      ],
      "text/plain": [
       "    ID_client  average_check  average_monthly  total_operations\n",
       "0       16052           81.3          44898.3             65222\n",
       "1      185364          179.3           1792.6              1489\n",
       "2      193285          125.0           1577.4              2187\n",
       "3      199886          110.0           1167.4              1536\n",
       "4      194930           87.6           1091.4              1797\n",
       "..        ...            ...              ...               ...\n",
       "75     233877           79.8            202.7               300\n",
       "76     228686          104.1            200.3               268\n",
       "77     193868           78.2            180.5               309\n",
       "78     185435           73.3            180.4               278\n",
       "79     185122           69.8            177.1               319\n",
       "\n",
       "[80 rows x 4 columns]"
      ]
     },
     "execution_count": 43,
     "metadata": {},
     "output_type": "execute_result"
    }
   ],
   "source": [
    "first_task = sqldf(\"\"\"\n",
    "                    SELECT ID_client,\n",
    "                    ROUND(SUM(Sum_payment)/COUNT(DISTINCT Id_check), 1) as average_check,\n",
    "                    ROUND(SUM(Sum_payment)/COUNT(DISTINCT date_new), 1) as average_monthly,\n",
    "                    COUNT(*) as total_operations\n",
    "                    FROM transactions\n",
    "                    GROUP BY ID_client\n",
    "                    HAVING COUNT(DISTINCT date_new) = 13\n",
    "                    ORDER BY average_monthly DESC\n",
    "                   \"\"\")\n",
    "first_task"
   ]
  },
  {
   "cell_type": "code",
   "execution_count": 44,
   "id": "03b457d0",
   "metadata": {},
   "outputs": [],
   "source": [
    "# 1. Список клиентов с неперерывной историей представлен по клиентам, у которых в каждом из 13 уникальных периодов есть операции\n",
    "# 2. Средний чек по клиенту представлен как сумма всех операций клиента разделенная на количество чеков\n",
    "# 3. Средняя сумма покупок в месяц рассчитана как сумма всех операций клиента разделенная на количество периодов (месяцев)\n",
    "# 4. Количество операций по клиенту рассчитано как количество всех строк таблицы transactions по каждому клиенту"
   ]
  },
  {
   "cell_type": "markdown",
   "id": "2dc0c2e6",
   "metadata": {},
   "source": [
    "Клиент 16052 является выбросом из выборки, так как средний ежемесячный чек в 25 раз больше чем у следующего за ним по порядку клиента"
   ]
  },
  {
   "cell_type": "markdown",
   "id": "2d079dce",
   "metadata": {},
   "source": [
    "# Второе задание"
   ]
  },
  {
   "cell_type": "code",
   "execution_count": 45,
   "id": "37c63822",
   "metadata": {},
   "outputs": [],
   "source": [
    "#заменяем пустые значения в столбце Gender таблицы Customers на флаг \"N\"\n",
    "values = {\"Gender\":\"N\"}\n",
    "customers.fillna(value=values, inplace = True)"
   ]
  },
  {
   "cell_type": "code",
   "execution_count": 46,
   "id": "feec703e",
   "metadata": {},
   "outputs": [
    {
     "data": {
      "text/plain": [
       "F    1598\n",
       "M     767\n",
       "N      64\n",
       "Name: Gender, dtype: int64"
      ]
     },
     "execution_count": 46,
     "metadata": {},
     "output_type": "execute_result"
    }
   ],
   "source": [
    "#оцениваем распределение клиентов по гендеру\n",
    "customers[\"Gender\"].value_counts()"
   ]
  },
  {
   "cell_type": "markdown",
   "id": "90457735",
   "metadata": {},
   "source": [
    "### Результат"
   ]
  },
  {
   "cell_type": "code",
   "execution_count": 47,
   "id": "b6da8527",
   "metadata": {},
   "outputs": [
    {
     "data": {
      "text/html": [
       "<div>\n",
       "<style scoped>\n",
       "    .dataframe tbody tr th:only-of-type {\n",
       "        vertical-align: middle;\n",
       "    }\n",
       "\n",
       "    .dataframe tbody tr th {\n",
       "        vertical-align: top;\n",
       "    }\n",
       "\n",
       "    .dataframe thead th {\n",
       "        text-align: right;\n",
       "    }\n",
       "</style>\n",
       "<table border=\"1\" class=\"dataframe\">\n",
       "  <thead>\n",
       "    <tr style=\"text-align: right;\">\n",
       "      <th></th>\n",
       "      <th>Month</th>\n",
       "      <th>average_check</th>\n",
       "      <th>average_operations</th>\n",
       "      <th>average_clients</th>\n",
       "      <th>share_of_total_operations</th>\n",
       "      <th>share_of_total_sum</th>\n",
       "      <th>Male_share</th>\n",
       "      <th>Female_share</th>\n",
       "      <th>NA_share</th>\n",
       "    </tr>\n",
       "  </thead>\n",
       "  <tbody>\n",
       "    <tr>\n",
       "      <th>0</th>\n",
       "      <td>01</td>\n",
       "      <td>90.2</td>\n",
       "      <td>30383</td>\n",
       "      <td>991</td>\n",
       "      <td>0.072</td>\n",
       "      <td>0.069</td>\n",
       "      <td>0.266</td>\n",
       "      <td>0.708</td>\n",
       "      <td>0.026</td>\n",
       "    </tr>\n",
       "    <tr>\n",
       "      <th>1</th>\n",
       "      <td>02</td>\n",
       "      <td>103.1</td>\n",
       "      <td>48174</td>\n",
       "      <td>1254</td>\n",
       "      <td>0.115</td>\n",
       "      <td>0.121</td>\n",
       "      <td>0.264</td>\n",
       "      <td>0.708</td>\n",
       "      <td>0.028</td>\n",
       "    </tr>\n",
       "    <tr>\n",
       "      <th>2</th>\n",
       "      <td>03</td>\n",
       "      <td>95.9</td>\n",
       "      <td>43268</td>\n",
       "      <td>1181</td>\n",
       "      <td>0.103</td>\n",
       "      <td>0.108</td>\n",
       "      <td>0.248</td>\n",
       "      <td>0.722</td>\n",
       "      <td>0.030</td>\n",
       "    </tr>\n",
       "    <tr>\n",
       "      <th>3</th>\n",
       "      <td>04</td>\n",
       "      <td>96.1</td>\n",
       "      <td>38770</td>\n",
       "      <td>1089</td>\n",
       "      <td>0.093</td>\n",
       "      <td>0.093</td>\n",
       "      <td>0.258</td>\n",
       "      <td>0.714</td>\n",
       "      <td>0.028</td>\n",
       "    </tr>\n",
       "    <tr>\n",
       "      <th>4</th>\n",
       "      <td>05</td>\n",
       "      <td>94.9</td>\n",
       "      <td>42952</td>\n",
       "      <td>1179</td>\n",
       "      <td>0.102</td>\n",
       "      <td>0.104</td>\n",
       "      <td>0.273</td>\n",
       "      <td>0.704</td>\n",
       "      <td>0.023</td>\n",
       "    </tr>\n",
       "    <tr>\n",
       "      <th>5</th>\n",
       "      <td>06</td>\n",
       "      <td>96.1</td>\n",
       "      <td>20519</td>\n",
       "      <td>605</td>\n",
       "      <td>0.098</td>\n",
       "      <td>0.099</td>\n",
       "      <td>0.254</td>\n",
       "      <td>0.717</td>\n",
       "      <td>0.029</td>\n",
       "    </tr>\n",
       "    <tr>\n",
       "      <th>6</th>\n",
       "      <td>07</td>\n",
       "      <td>93.8</td>\n",
       "      <td>29697</td>\n",
       "      <td>939</td>\n",
       "      <td>0.071</td>\n",
       "      <td>0.069</td>\n",
       "      <td>0.246</td>\n",
       "      <td>0.733</td>\n",
       "      <td>0.021</td>\n",
       "    </tr>\n",
       "    <tr>\n",
       "      <th>7</th>\n",
       "      <td>08</td>\n",
       "      <td>91.5</td>\n",
       "      <td>28891</td>\n",
       "      <td>907</td>\n",
       "      <td>0.069</td>\n",
       "      <td>0.066</td>\n",
       "      <td>0.214</td>\n",
       "      <td>0.762</td>\n",
       "      <td>0.024</td>\n",
       "    </tr>\n",
       "    <tr>\n",
       "      <th>8</th>\n",
       "      <td>09</td>\n",
       "      <td>93.2</td>\n",
       "      <td>28088</td>\n",
       "      <td>901</td>\n",
       "      <td>0.067</td>\n",
       "      <td>0.065</td>\n",
       "      <td>0.224</td>\n",
       "      <td>0.749</td>\n",
       "      <td>0.027</td>\n",
       "    </tr>\n",
       "    <tr>\n",
       "      <th>9</th>\n",
       "      <td>10</td>\n",
       "      <td>94.2</td>\n",
       "      <td>29674</td>\n",
       "      <td>967</td>\n",
       "      <td>0.071</td>\n",
       "      <td>0.070</td>\n",
       "      <td>0.246</td>\n",
       "      <td>0.733</td>\n",
       "      <td>0.021</td>\n",
       "    </tr>\n",
       "    <tr>\n",
       "      <th>10</th>\n",
       "      <td>11</td>\n",
       "      <td>90.3</td>\n",
       "      <td>27337</td>\n",
       "      <td>918</td>\n",
       "      <td>0.065</td>\n",
       "      <td>0.063</td>\n",
       "      <td>0.242</td>\n",
       "      <td>0.734</td>\n",
       "      <td>0.024</td>\n",
       "    </tr>\n",
       "    <tr>\n",
       "      <th>11</th>\n",
       "      <td>12</td>\n",
       "      <td>91.6</td>\n",
       "      <td>30849</td>\n",
       "      <td>1032</td>\n",
       "      <td>0.074</td>\n",
       "      <td>0.072</td>\n",
       "      <td>0.271</td>\n",
       "      <td>0.705</td>\n",
       "      <td>0.025</td>\n",
       "    </tr>\n",
       "  </tbody>\n",
       "</table>\n",
       "</div>"
      ],
      "text/plain": [
       "   Month  average_check  average_operations  average_clients  \\\n",
       "0     01           90.2               30383              991   \n",
       "1     02          103.1               48174             1254   \n",
       "2     03           95.9               43268             1181   \n",
       "3     04           96.1               38770             1089   \n",
       "4     05           94.9               42952             1179   \n",
       "5     06           96.1               20519              605   \n",
       "6     07           93.8               29697              939   \n",
       "7     08           91.5               28891              907   \n",
       "8     09           93.2               28088              901   \n",
       "9     10           94.2               29674              967   \n",
       "10    11           90.3               27337              918   \n",
       "11    12           91.6               30849             1032   \n",
       "\n",
       "    share_of_total_operations  share_of_total_sum  Male_share  Female_share  \\\n",
       "0                       0.072               0.069       0.266         0.708   \n",
       "1                       0.115               0.121       0.264         0.708   \n",
       "2                       0.103               0.108       0.248         0.722   \n",
       "3                       0.093               0.093       0.258         0.714   \n",
       "4                       0.102               0.104       0.273         0.704   \n",
       "5                       0.098               0.099       0.254         0.717   \n",
       "6                       0.071               0.069       0.246         0.733   \n",
       "7                       0.069               0.066       0.214         0.762   \n",
       "8                       0.067               0.065       0.224         0.749   \n",
       "9                       0.071               0.070       0.246         0.733   \n",
       "10                      0.065               0.063       0.242         0.734   \n",
       "11                      0.074               0.072       0.271         0.705   \n",
       "\n",
       "    NA_share  \n",
       "0      0.026  \n",
       "1      0.028  \n",
       "2      0.030  \n",
       "3      0.028  \n",
       "4      0.023  \n",
       "5      0.029  \n",
       "6      0.021  \n",
       "7      0.024  \n",
       "8      0.027  \n",
       "9      0.021  \n",
       "10     0.024  \n",
       "11     0.025  "
      ]
     },
     "execution_count": 47,
     "metadata": {},
     "output_type": "execute_result"
    }
   ],
   "source": [
    "second_task = sqldf(\"\"\"\n",
    "                    SELECT SUBSTR(t.date_new, 6, 2) as Month,\n",
    "                    ROUND(SUM(Sum_payment)/COUNT(DISTINCT Id_check), 1) as average_check,\n",
    "                    COUNT(*)/COUNT(DISTINCT SUBSTR(t.date_new, 1, 7)) as average_operations,\n",
    "                    COUNT(DISTINCT ID_client)/COUNT(DISTINCT SUBSTR(t.date_new, 1, 7)) as average_clients,\n",
    "                    ROUND((1.0*COUNT(*))/(1.0*(SELECT COUNT(*) FROM transactions)),3) as share_of_total_operations,\n",
    "                    ROUND(SUM(Sum_payment)/(SELECT SUM(Sum_payment) FROM transactions),3) as share_of_total_sum,\n",
    "                    ROUND(sum(male)/sum(Sum_payment),3) as Male_share,\n",
    "                    ROUND(sum(female)/sum(Sum_payment),3) as Female_share,\n",
    "                    ROUND(sum(na)/sum(Sum_payment),3) as NA_share\n",
    "                    FROM transactions as t\n",
    "                    LEFT JOIN\n",
    "                            (SELECT tr_id, t1.date_new, Sum_payment as male\n",
    "                            FROM transactions as t1\n",
    "                                LEFT JOIN customers as c on t1.ID_client = c.ID_client\n",
    "                            WHERE Gender = 'M')M\n",
    "                    ON t.tr_id = M.tr_id\n",
    "                    LEFT JOIN\n",
    "                            (SELECT tr_id, t2.date_new, Sum_payment as female\n",
    "                            FROM transactions as t2\n",
    "                                LEFT JOIN customers as c on t2.ID_client = c.ID_client\n",
    "                            WHERE Gender = 'F')F\n",
    "                    ON t.tr_id = F.tr_id\n",
    "                    LEFT JOIN\n",
    "                            (SELECT tr_id, t3.date_new, Sum_payment as na\n",
    "                            FROM transactions as t3\n",
    "                                LEFT JOIN customers as c on t3.ID_client = c.ID_client\n",
    "                            WHERE Gender = 'N')N\n",
    "                    ON t.tr_id = N.tr_id\n",
    "                    GROUP BY SUBSTR(t.date_new, 6, 2)\n",
    "                    \"\"\")\n",
    "second_task"
   ]
  },
  {
   "cell_type": "code",
   "execution_count": 48,
   "id": "0f19a111",
   "metadata": {},
   "outputs": [],
   "source": [
    "# 1. Средняя сумма чека в месяц рассчитана как сумма всех операций по месяцу деленная на количество чеков\n",
    "# 2. Среднее количество операций в месяц рассчитана как количество всех операций деленная на количество месяцев\n",
    "# 3. Среднее количество клиентов, которые совершали операции, рассчитано как количество всех клиентов деленное на количество месяцев\n",
    "# 4. Доля от общего количества операций за период рассчитана как количество операций за месяц деленная на полное количество операций\n",
    "# 5. Доля от общей суммы операций за период рассчитана как сумма операций за месяц деленная на полную сумму операций\n",
    "# 6. % от суммы операций по мужчинам, женщинам и пустым строкам распределен по столбцам"
   ]
  },
  {
   "cell_type": "markdown",
   "id": "21578791",
   "metadata": {},
   "source": [
    "Средний чек ежемесячно находится на одном уровне 90-100, поэтому видим, что праздничные месяца не влияют на сумму чека.\n",
    "Наблюдается рост среднего количества клиентов зимой и весной, кроме мая (февраль максимум - 1254, май минимум - 605)\n",
    "Женщины составляют около 73% ежемесячной суммы оплат, мужчины - 24%"
   ]
  },
  {
   "cell_type": "markdown",
   "id": "a600dcad",
   "metadata": {},
   "source": [
    "# Третье задание"
   ]
  },
  {
   "cell_type": "code",
   "execution_count": 49,
   "id": "4f514a6c",
   "metadata": {},
   "outputs": [],
   "source": [
    "#разбивка клиентов по возрастынм группам\n",
    "ages = customers[\"Age\"].sort_values().to_list()\n",
    "age_group = []\n",
    "step = 10\n",
    "x = 1\n",
    "for i in range(0, len(ages)):  \n",
    "    if np.sum(ages[i]) != np.sum(ages[i]):\n",
    "        age_group.append(0) #клиенты без информации о возрасте находятся в категории 0\n",
    "    else:\n",
    "        if ages[i]>=step: \n",
    "            x += 1\n",
    "            age_group.append(x)\n",
    "            step += 10\n",
    "        else:\n",
    "            age_group.append(x)"
   ]
  },
  {
   "cell_type": "code",
   "execution_count": 50,
   "id": "ff65f30a",
   "metadata": {},
   "outputs": [],
   "source": [
    "#Добавление ноового столбца Age_group в таблицу customers\n",
    "customers[\"Age_group\"] = age_group"
   ]
  },
  {
   "cell_type": "code",
   "execution_count": 51,
   "id": "183d3efc",
   "metadata": {},
   "outputs": [
    {
     "data": {
      "text/plain": [
       "3    570\n",
       "4    560\n",
       "5    437\n",
       "6    410\n",
       "7    231\n",
       "8     85\n",
       "2     84\n",
       "0     35\n",
       "1     11\n",
       "9      6\n",
       "Name: Age_group, dtype: int64"
      ]
     },
     "execution_count": 51,
     "metadata": {},
     "output_type": "execute_result"
    }
   ],
   "source": [
    "#Распределение клиентов по возрастынм группам. Наибольшее количество клиентов в 3-4 группах (20-40 лет)\n",
    "customers[\"Age_group\"].value_counts()"
   ]
  },
  {
   "cell_type": "code",
   "execution_count": 52,
   "id": "5e58c860",
   "metadata": {},
   "outputs": [
    {
     "data": {
      "text/plain": [
       "<seaborn.axisgrid.FacetGrid at 0x7f84d8903250>"
      ]
     },
     "execution_count": 52,
     "metadata": {},
     "output_type": "execute_result"
    },
    {
     "data": {
      "image/png": "[encoded data removed]",
      "text/plain": [
       "<Figure size 360x360 with 1 Axes>"
      ]
     },
     "metadata": {
      "needs_background": "light"
     },
     "output_type": "display_data"
    }
   ],
   "source": [
    "#График распределения клиентов по возрасту\n",
    "sns.displot(data=customers, x=\"Age\")"
   ]
  },
  {
   "cell_type": "markdown",
   "id": "eaa254ee",
   "metadata": {},
   "source": [
    "### Результат"
   ]
  },
  {
   "cell_type": "code",
   "execution_count": 53,
   "id": "f10c3bf4",
   "metadata": {},
   "outputs": [
    {
     "data": {
      "text/html": [
       "<div>\n",
       "<style scoped>\n",
       "    .dataframe tbody tr th:only-of-type {\n",
       "        vertical-align: middle;\n",
       "    }\n",
       "\n",
       "    .dataframe tbody tr th {\n",
       "        vertical-align: top;\n",
       "    }\n",
       "\n",
       "    .dataframe thead th {\n",
       "        text-align: right;\n",
       "    }\n",
       "</style>\n",
       "<table border=\"1\" class=\"dataframe\">\n",
       "  <thead>\n",
       "    <tr style=\"text-align: right;\">\n",
       "      <th></th>\n",
       "      <th>Age_group</th>\n",
       "      <th>Total_operations</th>\n",
       "      <th>Total_payment</th>\n",
       "      <th>average_payment_quarterly</th>\n",
       "    </tr>\n",
       "  </thead>\n",
       "  <tbody>\n",
       "    <tr>\n",
       "      <th>0</th>\n",
       "      <td>0</td>\n",
       "      <td>6549</td>\n",
       "      <td>64641.24</td>\n",
       "      <td>14917.21</td>\n",
       "    </tr>\n",
       "    <tr>\n",
       "      <th>1</th>\n",
       "      <td>1</td>\n",
       "      <td>1164</td>\n",
       "      <td>12047.81</td>\n",
       "      <td>2780.26</td>\n",
       "    </tr>\n",
       "    <tr>\n",
       "      <th>2</th>\n",
       "      <td>2</td>\n",
       "      <td>14129</td>\n",
       "      <td>131021.16</td>\n",
       "      <td>30235.65</td>\n",
       "    </tr>\n",
       "    <tr>\n",
       "      <th>3</th>\n",
       "      <td>3</td>\n",
       "      <td>85279</td>\n",
       "      <td>823043.48</td>\n",
       "      <td>189933.11</td>\n",
       "    </tr>\n",
       "    <tr>\n",
       "      <th>4</th>\n",
       "      <td>4</td>\n",
       "      <td>82623</td>\n",
       "      <td>781668.13</td>\n",
       "      <td>180384.95</td>\n",
       "    </tr>\n",
       "    <tr>\n",
       "      <th>5</th>\n",
       "      <td>5</td>\n",
       "      <td>52522</td>\n",
       "      <td>526764.92</td>\n",
       "      <td>121561.14</td>\n",
       "    </tr>\n",
       "    <tr>\n",
       "      <th>6</th>\n",
       "      <td>6</td>\n",
       "      <td>58713</td>\n",
       "      <td>560976.97</td>\n",
       "      <td>129456.22</td>\n",
       "    </tr>\n",
       "    <tr>\n",
       "      <th>7</th>\n",
       "      <td>7</td>\n",
       "      <td>101968</td>\n",
       "      <td>919942.23</td>\n",
       "      <td>212294.36</td>\n",
       "    </tr>\n",
       "    <tr>\n",
       "      <th>8</th>\n",
       "      <td>8</td>\n",
       "      <td>15473</td>\n",
       "      <td>150486.83</td>\n",
       "      <td>34727.73</td>\n",
       "    </tr>\n",
       "    <tr>\n",
       "      <th>9</th>\n",
       "      <td>9</td>\n",
       "      <td>702</td>\n",
       "      <td>7140.84</td>\n",
       "      <td>1647.89</td>\n",
       "    </tr>\n",
       "  </tbody>\n",
       "</table>\n",
       "</div>"
      ],
      "text/plain": [
       "   Age_group  Total_operations  Total_payment  average_payment_quarterly\n",
       "0          0              6549       64641.24                   14917.21\n",
       "1          1              1164       12047.81                    2780.26\n",
       "2          2             14129      131021.16                   30235.65\n",
       "3          3             85279      823043.48                  189933.11\n",
       "4          4             82623      781668.13                  180384.95\n",
       "5          5             52522      526764.92                  121561.14\n",
       "6          6             58713      560976.97                  129456.22\n",
       "7          7            101968      919942.23                  212294.36\n",
       "8          8             15473      150486.83                   34727.73\n",
       "9          9               702        7140.84                    1647.89"
      ]
     },
     "execution_count": 53,
     "metadata": {},
     "output_type": "execute_result"
    }
   ],
   "source": [
    "third_task = sqldf(\"\"\"\n",
    "                    SELECT Age_group, \n",
    "                    COUNT(*) as Total_operations,\n",
    "                    SUM(Sum_payment) as Total_payment,\n",
    "                    ROUND((SUM(Sum_payment)/COUNT(DISTINCT SUBSTR(t.date_new, 1, 7)))*3,2) as average_payment_quarterly\n",
    "                    FROM transactions as t\n",
    "                    LEFT JOIN customers as c ON t.ID_client = c.ID_client\n",
    "                    GROUP BY Age_group\n",
    "                   \"\"\")\n",
    "third_task"
   ]
  },
  {
   "cell_type": "code",
   "execution_count": 54,
   "id": "48c3a919",
   "metadata": {},
   "outputs": [],
   "source": [
    "# 1. Количество операций рассчитано как количество всех строк по возрастной группе\n",
    "# 2. Сумма по операций рассчитана как сумма оплат по возрастной группе\n",
    "# 3. Средняя ежеквартальная опалата рассчитана как сумма всех операций деленная на количество месяцев и умноженна на 3"
   ]
  },
  {
   "cell_type": "markdown",
   "id": "70239cb5",
   "metadata": {},
   "source": [
    "Наибольший вклад в результат вносят 3 и 4 возрастные группы (20-40 лет) "
   ]
  },
  {
   "cell_type": "code",
   "execution_count": 55,
   "id": "01a3dec3",
   "metadata": {},
   "outputs": [
    {
     "data": {
      "text/plain": [
       "<AxesSubplot:xlabel='Age_group', ylabel='Total_payment'>"
      ]
     },
     "execution_count": 55,
     "metadata": {},
     "output_type": "execute_result"
    },
    {
     "data": {
      "image/png": "[encoded data removed]",
      "text/plain": [
       "<Figure size 432x288 with 1 Axes>"
      ]
     },
     "metadata": {
      "needs_background": "light"
     },
     "output_type": "display_data"
    }
   ],
   "source": [
    "#график показывает сумму оплат по каждой возрастной группе\n",
    "sns.barplot(data=third_task, x=\"Age_group\", y=\"Total_payment\", palette=\"Blues_d\")"
   ]
  }
 ],
 "metadata": {
  "kernelspec": {
   "display_name": "Python 3 (ipykernel)",
   "language": "python",
   "name": "python3"
  },
  "language_info": {
   "codemirror_mode": {
    "name": "ipython",
    "version": 3
   },
   "file_extension": ".py",
   "mimetype": "text/x-python",
   "name": "python",
   "nbconvert_exporter": "python",
   "pygments_lexer": "ipython3",
   "version": "3.9.12"
  }
 },
 "nbformat": 4,
 "nbformat_minor": 5
}
